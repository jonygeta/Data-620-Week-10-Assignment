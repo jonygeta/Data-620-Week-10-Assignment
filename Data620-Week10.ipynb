{
 "cells": [
  {
   "cell_type": "markdown",
   "metadata": {},
   "source": [
    "## Data 620 - Week 10\n",
    "\n",
    "### Team No. 6\n",
    "\n",
    "- Yohannes Deboch\n",
    "- Sherranette Tinapunan\n",
    "\n",
    "### Video Presentation\n",
    "\n",
    "Part 1: https://screencast-o-matic.com/watch/cqfbfpZ0Kj\n",
    "\n",
    "Part 2: https://screencast-o-matic.com/watch/cqfbheZ072\n",
    "\n",
    "---"
   ]
  },
  {
   "cell_type": "markdown",
   "metadata": {},
   "source": [
    "### Assignment \n",
    "\n",
    "It can be useful to be able to classify new \"test\" documents using already classified \"training\" documents.  A common example is using a corpus of labeled spam and ham (non-spam) e-mails to predict whether or not a new document is spam.  Here is one example of such data:  http://archive.ics.uci.edu/ml/datasets/Spambase\n",
    "\n",
    "For this project, you can either use the above dataset to predict the class of new documents (either withheld from the training dataset or from another source such as your own spam folder).\n",
    "\n",
    "For more adventurous students, you are welcome (encouraged!) to come up a different set of documents (including scraped web pages!?) that have already been classified (e.g. tagged), then analyze these documents to predict how new documents should be classified.\n",
    "\n",
    "---\n",
    "\n",
    "### Data set\n",
    "\n",
    "http://spamassassin.apache.org/old/publiccorpus/"
   ]
  },
  {
   "cell_type": "markdown",
   "metadata": {},
   "source": [
    "### Libraries"
   ]
  },
  {
   "cell_type": "code",
   "execution_count": 1,
   "metadata": {},
   "outputs": [],
   "source": [
    "import numpy as np\n",
    "import pandas as pd\n",
    "\n",
    "from nltk.corpus import stopwords \n",
    "from nltk.stem import PorterStemmer\n",
    "import re #regular expression\n",
    "import glob\n",
    "\n",
    "#sklearn\n",
    "#from sklearn.feature_extraction.text import CountVectorizer\n",
    "from sklearn.feature_extraction.text import TfidfVectorizer\n",
    "from sklearn.model_selection import train_test_split\n",
    "from sklearn.naive_bayes import MultinomialNB"
   ]
  },
  {
   "cell_type": "markdown",
   "metadata": {},
   "source": [
    "### Functions\n",
    "\n",
    "<b>get_documents</b> is a function that takes a path to a folder that contains files and a value of 1 or 0 that specifies if the documents in the folder are spam or not. The function expects that all spam messages are contained in a single folder and all ham messages are contained in a single folder as well. The expected encoding is \"utf8\". If an error errors while reading a document, the error is ignored and the next document is read. \n",
    "\n",
    "- <i>folerpath</i>: path to the folder\n",
    "- <i>spam_value</i>: 1 if the messages in the folder are spam. 0 if the messages in the folder are not spam. \n",
    "\n",
    "This function returns a data frame of messages with the columns 'spam' and 'message'. "
   ]
  },
  {
   "cell_type": "code",
   "execution_count": 2,
   "metadata": {
    "scrolled": true
   },
   "outputs": [],
   "source": [
    "#folderpath: relative path to the folder that contains texts classified as either spam or ham\n",
    "#spam_value: pass '1' if documents in folder are spam; pass '0' if documents in folder are ham.\n",
    "#this function skips any documents that generates errors due to unrecognized encoding\n",
    "def get_documents(folderpath, spam_value):\n",
    "    filepath_list = glob.glob(folderpath)\n",
    "    d = list()\n",
    "    for filepath in filepath_list:\n",
    "        file_object  = open(filepath, \"r\", encoding=\"utf8\", errors='ignore')\n",
    "        message = file_object.read()\n",
    "        document = {'spam':[spam_value], 'message': [message]}\n",
    "        d.append(pd.DataFrame(document))\n",
    "    return pd.concat(d) #return dataframe"
   ]
  },
  {
   "cell_type": "markdown",
   "metadata": {},
   "source": [
    "<b>get_alphawords</b> is a function that takes a string and extracts words with alpha characters. \n",
    "Trailing and leading spaces are removed. English stop words are removed. The words are stemmed.\n",
    "A string is returned."
   ]
  },
  {
   "cell_type": "code",
   "execution_count": 3,
   "metadata": {},
   "outputs": [],
   "source": [
    "#extract only alpha characters, remove english stopwords, and stem words\n",
    "def get_alphawords(message):\n",
    "    message = message.lower()\n",
    "    #only look at alpha characters\n",
    "    thispattern = \"[a-z]+ |[a-z]+[a-z]$|[a-z]+[\\\\.|,|;] \"\n",
    "    alpha_words_list = re.findall(thispattern, message)\n",
    "    words_strip = [word.strip() for word in alpha_words_list] #remove leading/trailing spaces\n",
    "    sw = stopwords.words('english')\n",
    "    words = [word for word in words_strip if word not in sw] #remove stop words\n",
    "    stemmer = PorterStemmer()\n",
    "    stemmed_words = [stemmer.stem(word) for word in words]\n",
    "    return ' '.join([word for word in stemmed_words]) #return a string"
   ]
  },
  {
   "cell_type": "markdown",
   "metadata": {},
   "source": [
    "#### Load spam and ham documents \n",
    "\n",
    "Load the spam and ham documents from the specified folder. Mark spam messages with 'spam = 1' and mark ham messages with 'spam = 0'. The spam and ham text documents are loaded onto their respective dataframes.  "
   ]
  },
  {
   "cell_type": "code",
   "execution_count": 4,
   "metadata": {},
   "outputs": [],
   "source": [
    "spam_data = get_documents('spamham/spam_all/*', 1) \n",
    "ham_data = get_documents('spamham/ham_all/*', 0)"
   ]
  },
  {
   "cell_type": "markdown",
   "metadata": {},
   "source": [
    "#### Size of spam and ham\n",
    "\n",
    "There are 1,896 spam documents and 4,202 ham documents. "
   ]
  },
  {
   "cell_type": "code",
   "execution_count": 5,
   "metadata": {},
   "outputs": [
    {
     "name": "stdout",
     "output_type": "stream",
     "text": [
      "(1896, 2)\n",
      "(4202, 2)\n"
     ]
    }
   ],
   "source": [
    "print(spam_data.shape)\n",
    "print(ham_data.shape)"
   ]
  },
  {
   "cell_type": "markdown",
   "metadata": {},
   "source": [
    "#### Preview documents"
   ]
  },
  {
   "cell_type": "code",
   "execution_count": 6,
   "metadata": {},
   "outputs": [
    {
     "data": {
      "text/html": [
       "<div>\n",
       "<style scoped>\n",
       "    .dataframe tbody tr th:only-of-type {\n",
       "        vertical-align: middle;\n",
       "    }\n",
       "\n",
       "    .dataframe tbody tr th {\n",
       "        vertical-align: top;\n",
       "    }\n",
       "\n",
       "    .dataframe thead th {\n",
       "        text-align: right;\n",
       "    }\n",
       "</style>\n",
       "<table border=\"1\" class=\"dataframe\">\n",
       "  <thead>\n",
       "    <tr style=\"text-align: right;\">\n",
       "      <th></th>\n",
       "      <th>spam</th>\n",
       "      <th>message</th>\n",
       "    </tr>\n",
       "  </thead>\n",
       "  <tbody>\n",
       "    <tr>\n",
       "      <th>0</th>\n",
       "      <td>1</td>\n",
       "      <td>From ilug-admin@linux.ie  Tue Aug  6 11:51:02 ...</td>\n",
       "    </tr>\n",
       "    <tr>\n",
       "      <th>0</th>\n",
       "      <td>1</td>\n",
       "      <td>From 12a1mailbot1@web.de  Thu Aug 22 13:17:22 ...</td>\n",
       "    </tr>\n",
       "    <tr>\n",
       "      <th>0</th>\n",
       "      <td>1</td>\n",
       "      <td>From lmrn@mailexcite.com  Mon Jun 24 17:03:24 ...</td>\n",
       "    </tr>\n",
       "    <tr>\n",
       "      <th>0</th>\n",
       "      <td>1</td>\n",
       "      <td>From ilug-admin@linux.ie  Thu Aug 22 13:27:39 ...</td>\n",
       "    </tr>\n",
       "    <tr>\n",
       "      <th>0</th>\n",
       "      <td>1</td>\n",
       "      <td>From sabrina@mx3.1premio.com  Thu Aug 22 14:44...</td>\n",
       "    </tr>\n",
       "  </tbody>\n",
       "</table>\n",
       "</div>"
      ],
      "text/plain": [
       "   spam                                            message\n",
       "0     1  From ilug-admin@linux.ie  Tue Aug  6 11:51:02 ...\n",
       "0     1  From 12a1mailbot1@web.de  Thu Aug 22 13:17:22 ...\n",
       "0     1  From lmrn@mailexcite.com  Mon Jun 24 17:03:24 ...\n",
       "0     1  From ilug-admin@linux.ie  Thu Aug 22 13:27:39 ...\n",
       "0     1  From sabrina@mx3.1premio.com  Thu Aug 22 14:44..."
      ]
     },
     "execution_count": 6,
     "metadata": {},
     "output_type": "execute_result"
    }
   ],
   "source": [
    "spam_data.head()"
   ]
  },
  {
   "cell_type": "code",
   "execution_count": 7,
   "metadata": {},
   "outputs": [
    {
     "data": {
      "text/html": [
       "<div>\n",
       "<style scoped>\n",
       "    .dataframe tbody tr th:only-of-type {\n",
       "        vertical-align: middle;\n",
       "    }\n",
       "\n",
       "    .dataframe tbody tr th {\n",
       "        vertical-align: top;\n",
       "    }\n",
       "\n",
       "    .dataframe thead th {\n",
       "        text-align: right;\n",
       "    }\n",
       "</style>\n",
       "<table border=\"1\" class=\"dataframe\">\n",
       "  <thead>\n",
       "    <tr style=\"text-align: right;\">\n",
       "      <th></th>\n",
       "      <th>spam</th>\n",
       "      <th>message</th>\n",
       "    </tr>\n",
       "  </thead>\n",
       "  <tbody>\n",
       "    <tr>\n",
       "      <th>0</th>\n",
       "      <td>0</td>\n",
       "      <td>Return-Path: &lt;exmh-workers-admin@spamassassin....</td>\n",
       "    </tr>\n",
       "    <tr>\n",
       "      <th>0</th>\n",
       "      <td>0</td>\n",
       "      <td>From exmh-workers-admin@redhat.com  Wed Aug 21...</td>\n",
       "    </tr>\n",
       "    <tr>\n",
       "      <th>0</th>\n",
       "      <td>0</td>\n",
       "      <td>From exmh-workers-admin@redhat.com  Wed Aug 21...</td>\n",
       "    </tr>\n",
       "    <tr>\n",
       "      <th>0</th>\n",
       "      <td>0</td>\n",
       "      <td>From exmh-workers-admin@redhat.com  Wed Aug 21...</td>\n",
       "    </tr>\n",
       "    <tr>\n",
       "      <th>0</th>\n",
       "      <td>0</td>\n",
       "      <td>From exmh-workers-admin@redhat.com  Wed Aug 21...</td>\n",
       "    </tr>\n",
       "  </tbody>\n",
       "</table>\n",
       "</div>"
      ],
      "text/plain": [
       "   spam                                            message\n",
       "0     0  Return-Path: <exmh-workers-admin@spamassassin....\n",
       "0     0  From exmh-workers-admin@redhat.com  Wed Aug 21...\n",
       "0     0  From exmh-workers-admin@redhat.com  Wed Aug 21...\n",
       "0     0  From exmh-workers-admin@redhat.com  Wed Aug 21...\n",
       "0     0  From exmh-workers-admin@redhat.com  Wed Aug 21..."
      ]
     },
     "execution_count": 7,
     "metadata": {},
     "output_type": "execute_result"
    }
   ],
   "source": [
    "ham_data.head()"
   ]
  },
  {
   "cell_type": "markdown",
   "metadata": {},
   "source": [
    "#### Preview of a single document before clean up\n",
    "\n",
    "Below is an example document. As you can see, the document contains a lot of formatting data."
   ]
  },
  {
   "cell_type": "code",
   "execution_count": 8,
   "metadata": {},
   "outputs": [
    {
     "data": {
      "text/plain": [
       "'From ilug-admin@linux.ie  Tue Aug  6 11:51:02 2002\\nReturn-Path: <ilug-admin@linux.ie>\\nDelivered-To: yyyy@localhost.netnoteinc.com\\nReceived: from localhost (localhost [127.0.0.1])\\n\\tby phobos.labs.netnoteinc.com (Postfix) with ESMTP id 9E1F5441DD\\n\\tfor <jm@localhost>; Tue,  6 Aug 2002 06:48:09 -0400 (EDT)\\nReceived: from phobos [127.0.0.1]\\n\\tby localhost with IMAP (fetchmail-5.9.0)\\n\\tfor jm@localhost (single-drop); Tue, 06 Aug 2002 11:48:09 +0100 (IST)\\nReceived: from lugh.tuatha.org (root@lugh.tuatha.org [194.125.145.45]) by\\n    dogma.slashnull.org (8.11.6/8.11.6) with ESMTP id g72LqWv13294 for\\n    <jm-ilug@jmason.org>; Fri, 2 Aug 2002 22:52:32 +0100\\nReceived: from lugh (root@localhost [127.0.0.1]) by lugh.tuatha.org\\n    (8.9.3/8.9.3) with ESMTP id WAA31224; Fri, 2 Aug 2002 22:50:17 +0100\\nReceived: from bettyjagessar.com (w142.z064000057.nyc-ny.dsl.cnc.net\\n    [64.0.57.142]) by lugh.tuatha.org (8.9.3/8.9.3) with ESMTP id WAA31201 for\\n    <ilug@linux.ie>; Fri, 2 Aug 2002 22:50:11 +0100\\nX-Authentication-Warning: lugh.tuatha.org: Host w142.z064000057.nyc-ny.dsl.cnc.net\\n    [64.0.57.142] claimed to be bettyjagessar.com\\nReceived: from 64.0.57.142 [202.63.165.34] by bettyjagessar.com\\n    (SMTPD32-7.06 EVAL) id A42A7FC01F2; Fri, 02 Aug 2002 02:18:18 -0400\\nMessage-Id: <1028311679.886@0.57.142>\\nDate: Fri, 02 Aug 2002 23:37:59 0530\\nTo: ilug@linux.ie\\nFrom: \"Start Now\" <startnow2002@hotmail.com>\\nMIME-Version: 1.0\\nContent-Type: text/plain; charset=\"US-ASCII\"; format=flowed\\nSubject: [ILUG] STOP THE MLM INSANITY\\nSender: ilug-admin@linux.ie\\nErrors-To: ilug-admin@linux.ie\\nX-Mailman-Version: 1.1\\nPrecedence: bulk\\nList-Id: Irish Linux Users\\' Group <ilug.linux.ie>\\nX-Beenthere: ilug@linux.ie\\n\\nGreetings!\\n\\nYou are receiving this letter because you have expressed an interest in \\nreceiving information about online business opportunities. If this is \\nerroneous then please accept my most sincere apology. This is a one-time \\nmailing, so no removal is necessary.\\n\\nIf you\\'ve been burned, betrayed, and back-stabbed by multi-level marketing, \\nMLM, then please read this letter. It could be the most important one that \\nhas ever landed in your Inbox.\\n\\nMULTI-LEVEL MARKETING IS A HUGE MISTAKE FOR MOST PEOPLE\\n\\nMLM has failed to deliver on its promises for the past 50 years. The pursuit \\nof the \"MLM Dream\" has cost hundreds of thousands of people their friends, \\ntheir fortunes and their sacred honor. The fact is that MLM is fatally \\nflawed, meaning that it CANNOT work for most people.\\n\\nThe companies and the few who earn the big money in MLM are NOT going to \\ntell you the real story. FINALLY, there is someone who has the courage to \\ncut through the hype and lies and tell the TRUTH about MLM.\\n\\nHERE\\'S GOOD NEWS\\n\\nThere IS an alternative to MLM that WORKS, and works BIG! If you haven\\'t yet \\nabandoned your dreams, then you need to see this. Earning the kind of income \\nyou\\'ve dreamed about is easier than you think!\\n\\nWith your permission, I\\'d like to send you a brief letter that will tell you \\nWHY MLM doesn\\'t work for most people and will then introduce you to \\nsomething so new and refreshing that you\\'ll wonder why you haven\\'t heard of \\nthis before.\\n\\nI promise that there will be NO unwanted follow up, NO sales pitch, no one \\nwill call you, and your email address will only be used to send you the \\ninformation. Period.\\n\\nTo receive this free, life-changing information, simply click Reply, type \\n\"Send Info\" in the Subject box and hit Send. I\\'ll get the information to you \\nwithin 24 hours. Just look for the words MLM WALL OF SHAME in your Inbox.\\n\\nCordially,\\n\\nSiddhi\\n\\nP.S. Someone recently sent the letter to me and it has been the most \\neye-opening, financially beneficial information I have ever received. I \\nhonestly believe that you will feel the same way once you\\'ve read it. And \\nit\\'s FREE!\\n\\n\\n------------------------------------------------------------\\nThis email is NEVER sent unsolicited.  THIS IS NOT \"SPAM\". You are receiving \\nthis email because you EXPLICITLY signed yourself up to our list with our \\nonline signup form or through use of our FFA Links Page and E-MailDOM \\nsystems, which have EXPLICIT terms of use which state that through its use \\nyou agree to receive our emailings.  You may also be a member of a Altra \\nComputer Systems list or one of many numerous FREE Marketing Services and as \\nsuch you agreed when you signed up for such list that you would also be \\nreceiving this emailing.\\nDue to the above, this email message cannot be considered unsolicitated, or \\nspam.\\n-----------------------------------------------------------\\n\\n\\n\\n\\n-- \\nIrish Linux Users\\' Group: ilug@linux.ie\\nhttp://www.linux.ie/mailman/listinfo/ilug for (un)subscription information.\\nList maintainer: listmaster@linux.ie\\n\\n\\n'"
      ]
     },
     "execution_count": 8,
     "metadata": {},
     "output_type": "execute_result"
    }
   ],
   "source": [
    "spam_data.iloc[0]['message']"
   ]
  },
  {
   "cell_type": "markdown",
   "metadata": {},
   "source": [
    "#### Extract words with letters only\n",
    "\n",
    "The function <b>get_alphawords</b> is used to extract words with alpha characters only."
   ]
  },
  {
   "cell_type": "code",
   "execution_count": 9,
   "metadata": {},
   "outputs": [],
   "source": [
    "spam_data['message_alphawords'] = spam_data['message'].apply(lambda x: get_alphawords(x))\n",
    "ham_data['message_alphawords'] = ham_data['message'].apply(lambda x: get_alphawords(x))"
   ]
  },
  {
   "cell_type": "markdown",
   "metadata": {},
   "source": [
    "Combine spam and ham data into a single data frame 'data'. There are, in total, 6,098 documents."
   ]
  },
  {
   "cell_type": "code",
   "execution_count": 10,
   "metadata": {},
   "outputs": [
    {
     "data": {
      "text/plain": [
       "6098"
      ]
     },
     "execution_count": 10,
     "metadata": {},
     "output_type": "execute_result"
    }
   ],
   "source": [
    "data = spam_data.append(ham_data)\n",
    "data = data.drop(['message'], axis=1)\n",
    "data.columns = ['spam', 'message']\n",
    "len(data)"
   ]
  },
  {
   "cell_type": "markdown",
   "metadata": {},
   "source": [
    "#### After clean up"
   ]
  },
  {
   "cell_type": "code",
   "execution_count": 11,
   "metadata": {},
   "outputs": [
    {
     "data": {
      "text/plain": [
       "'ie tue aug localhost localhost com esmtp id tue, aug phobo localhost imap localhost tue, aug org org org esmtp id fri, aug lugh localhost esmtp id fri, aug com org esmtp id fri, aug host claim id fri, aug fri, aug start plain; stop mlm irish linux group receiv letter express interest receiv inform onlin busi opportunities. erron pleas accept sincer apology. time mailing, remov burned, betrayed, stab level marketing, mlm, pleas read letter. could import one ever land level market huge mistak mlm fail deliv promis past years. pursuit mlm cost hundr thousand peopl friends, fortun sacr honor. fact mlm fatal flawed, mean cannot work compani earn big money mlm go tell real story. finally, someon courag cut hype lie tell truth good altern mlm works, work yet abandon dreams, need see this. earn kind incom dream easier permission, like send brief letter tell mlm work peopl introduc someth new refresh wonder heard promis unwant follow up, sale pitch, one call you, email address use send information. receiv free, chang information, simpli click reply, type send subject box hit send. get inform within hours. look word mlm wall shame s. someon recent sent letter opening, financi benefici inform ever received. honestli believ feel way read it. email never sent unsolicited. receiv email explicitli sign list onlin signup form use ffa link page maildom systems, explicit term use state use agre receiv emailings. may also member altra comput system list one mani numer free market servic agre sign list would also receiv due above, email messag cannot consid unsolicitated, irish linux ilug subscript list'"
      ]
     },
     "execution_count": 11,
     "metadata": {},
     "output_type": "execute_result"
    }
   ],
   "source": [
    "data.iloc[0]['message']"
   ]
  },
  {
   "cell_type": "markdown",
   "metadata": {},
   "source": [
    "#### Create 'x' and 'y' \n",
    "\n",
    "The <b>sklearn</b> library is used to create the model that classifies documents are either spam or not spam. \n",
    "\n",
    "- The <b>x</b> data is the text of the document (independent variable). \n",
    "- The <b>y</b> data is the spam status of 1 or 0 (dependent variable). The y variable is what the model is going to predict."
   ]
  },
  {
   "cell_type": "code",
   "execution_count": 12,
   "metadata": {},
   "outputs": [],
   "source": [
    "df_x = data['message']\n",
    "df_y = data['spam']"
   ]
  },
  {
   "cell_type": "markdown",
   "metadata": {},
   "source": [
    "#### Split data into training and test\n",
    "\n",
    "The function <b>train_test_split</b> of <i>sklearn.model_selection</i> is used to split the data into random train and test subsets. The test size is set to 25%. \n",
    "\n",
    "https://scikit-learn.org/stable/modules/generated/sklearn.model_selection.train_test_split.html\n",
    "\n",
    "\n",
    "Training data - 75% \n",
    "- <i>x_train</i> - message data used to train the model (independent)\n",
    "- <i>x_test</i> - corresponding spam status used to train the model (dependent)\n",
    "\n",
    "Test data - 25%\n",
    "- <i>y_train</i> - message data used to test predictions of model (independent)\n",
    "- <i>y_test</i> - corresponding actual spam status that model attempts to predict "
   ]
  },
  {
   "cell_type": "code",
   "execution_count": 13,
   "metadata": {},
   "outputs": [
    {
     "name": "stdout",
     "output_type": "stream",
     "text": [
      "1525\n",
      "1525\n",
      "4573\n",
      "4573\n"
     ]
    }
   ],
   "source": [
    "x_train, x_test, y_train, y_test = train_test_split(df_x, df_y, test_size=0.25, random_state=4)\n",
    "\n",
    "print(len(x_test))\n",
    "print(len(y_test))\n",
    "\n",
    "print(len(x_train))\n",
    "print(len(y_train))"
   ]
  },
  {
   "cell_type": "markdown",
   "metadata": {},
   "source": [
    "### Term Frequency - Inverse Document Frequency (TF-IDF)\n",
    "\n",
    "Sklearn's TF-IDF vectorizer function was used to generate the term frequency-inverse document frequency value for each of the word in the training and test message data. \n",
    "\n",
    "https://scikit-learn.org/stable/modules/generated/sklearn.feature_extraction.text.TfidfVectorizer.html\n",
    "\n",
    "<b>min_df</b>: float in range [0.0, 1.0] or int (default=1)\n",
    "When building the vocabulary ignore terms that have a document frequency strictly lower than the given threshold. This value is also called cut-off in the literature. If float, the parameter represents a proportion of documents, integer absolute counts. This parameter is ignored if vocabulary is not None.\n",
    "\n",
    "The line of code below create a TF-IDF vectorizer object. This vectorizer removes stop words in the English language. \n"
   ]
  },
  {
   "cell_type": "code",
   "execution_count": 14,
   "metadata": {},
   "outputs": [],
   "source": [
    "#generate a tf-idf vectorizer\n",
    "tfidf_vec = TfidfVectorizer(min_df=1, stop_words='english')"
   ]
  },
  {
   "cell_type": "markdown",
   "metadata": {},
   "source": [
    "\n",
    "Explanation of what <b>fit_transform</b> does: \n",
    "\n",
    "https://datascience.stackexchange.com/questions/12321/difference-between-fit-and-fit-transform-in-scikit-learn-models\n",
    "\n",
    "The <b>fit_transform</b> is run on te train 'x' data. This calculates the mean and standard deviations, which are used to normalize the data.  \n",
    "    "
   ]
  },
  {
   "cell_type": "code",
   "execution_count": 15,
   "metadata": {
    "scrolled": true
   },
   "outputs": [],
   "source": [
    "x_train_tfidf = tfidf_vec.fit_transform(x_train)"
   ]
  },
  {
   "cell_type": "markdown",
   "metadata": {},
   "source": [
    "There are 30,817 features in the train set (unique words). "
   ]
  },
  {
   "cell_type": "code",
   "execution_count": 16,
   "metadata": {},
   "outputs": [
    {
     "name": "stdout",
     "output_type": "stream",
     "text": [
      "30817\n"
     ]
    }
   ],
   "source": [
    "print(len(tfidf_vec.get_feature_names()))"
   ]
  },
  {
   "cell_type": "markdown",
   "metadata": {},
   "source": [
    "#### Preview of feature names in train data"
   ]
  },
  {
   "cell_type": "code",
   "execution_count": 17,
   "metadata": {},
   "outputs": [
    {
     "data": {
      "text/plain": [
       "['aa',\n",
       " 'aaa',\n",
       " 'aaar',\n",
       " 'aac',\n",
       " 'aachen',\n",
       " 'aacute',\n",
       " 'aad',\n",
       " 'aag',\n",
       " 'aalib',\n",
       " 'aaliyah',\n",
       " 'aaron',\n",
       " 'aaronsw',\n",
       " 'aatr',\n",
       " 'aavid',\n",
       " 'aavishkar',\n",
       " 'aaxin',\n",
       " 'ab',\n",
       " 'abacha',\n",
       " 'abandon',\n",
       " 'abastecimientos']"
      ]
     },
     "execution_count": 17,
     "metadata": {},
     "output_type": "execute_result"
    }
   ],
   "source": [
    "tfidf_vec.get_feature_names()[0:20]"
   ]
  },
  {
   "cell_type": "markdown",
   "metadata": {},
   "source": [
    "#### A demo of the tfidf output\n",
    "\n",
    "The tfidf vectorizer output is an array of list that gives the tfidf value of the words in the tfidf_vec.get_feature_names(). These feature names are the 'columns names' of the array of list. Each list in the array represents a document. "
   ]
  },
  {
   "cell_type": "code",
   "execution_count": 18,
   "metadata": {
    "scrolled": true
   },
   "outputs": [
    {
     "name": "stdout",
     "output_type": "stream",
     "text": [
      "[[0. 0. 0. ... 0. 0. 0.]\n",
      " [0. 0. 0. ... 0. 0. 0.]\n",
      " [0. 0. 0. ... 0. 0. 0.]\n",
      " ...\n",
      " [0. 0. 0. ... 0. 0. 0.]\n",
      " [0. 0. 0. ... 0. 0. 0.]\n",
      " [0. 0. 0. ... 0. 0. 0.]]\n"
     ]
    }
   ],
   "source": [
    "a = x_train_tfidf.toarray()\n",
    "print(a)"
   ]
  },
  {
   "cell_type": "markdown",
   "metadata": {},
   "source": [
    "As you can see, the tfidf output has 4,573 rows (number of documents in the train set) and 30,817 columns (number of distinct terms or words in the entire train set). Each value in the array is a tfidf score of the corresponding term in the document. "
   ]
  },
  {
   "cell_type": "code",
   "execution_count": 19,
   "metadata": {},
   "outputs": [
    {
     "data": {
      "text/plain": [
       "(4573, 30817)"
      ]
     },
     "execution_count": 19,
     "metadata": {},
     "output_type": "execute_result"
    }
   ],
   "source": [
    "a.shape"
   ]
  },
  {
   "cell_type": "markdown",
   "metadata": {},
   "source": [
    "The <b>inverse_transform</b> function maps an array element back to the words in the document. \n",
    "\n",
    "The example below selects the tf-idf output of the first document in the train set, a[0], and passes this to the inverse_transform function. The x_train.iloc[0] shows you the content of the message of the first document in the train set. "
   ]
  },
  {
   "cell_type": "code",
   "execution_count": 20,
   "metadata": {},
   "outputs": [
    {
     "data": {
      "text/plain": [
       "[array(['anoth', 'anyth', 'au', 'bad', 'click', 'codebase', 'com', 'cut',\n",
       "        'discuss', 'display', 'dn', 'elz', 'esmtp', 'exampl', 'exmh',\n",
       "        'fail', 'fri', 'guess', 'gvim', 'id', 'imap', 'jalapeno', 'kind',\n",
       "        'list', 'localdomain', 'localhost', 'mail', 'messag', 'mozilla',\n",
       "        'netscap', 'nugent', 'odd', 'org', 'past', 'plain', 'processes',\n",
       "        'robert', 'script', 'sep', 'smtp', 'suppos', 'task', 'th', 'thing',\n",
       "        'toni', 'use', 'user', 'window', 'wish', 'xterm'], dtype='<U36')]"
      ]
     },
     "execution_count": 20,
     "metadata": {},
     "output_type": "execute_result"
    }
   ],
   "source": [
    "tfidf_vec.inverse_transform(a[0])"
   ]
  },
  {
   "cell_type": "code",
   "execution_count": 21,
   "metadata": {},
   "outputs": [
    {
     "data": {
      "text/plain": [
       "'com fri sep localhost jalapeno org esmtp id fri, sep jalapeno localhost imap localhost fri, sep com com org esmtp id fri, sep com localdomain com esmtp id e; fri, sep com com esmtp id fri, sep com id com; fri, sep com com com smtp id fri, sep th smtp id fri, sep au th th esmtp id fri, sep au localhost esmtp id fri, sep robert elz bad click plain; discuss list exmh user fri, sep no, fri, sep toni nugent past messag display window gvim processes, anyth odd. cut past kind window exmh mozilla, xterm, anoth wish script mine use dn task one guess netscap use use suppos mozilla codebase, thing anyth fail for, exampl anyth fail user mail'"
      ]
     },
     "execution_count": 21,
     "metadata": {},
     "output_type": "execute_result"
    }
   ],
   "source": [
    "x_train.iloc[0]"
   ]
  },
  {
   "cell_type": "markdown",
   "metadata": {},
   "source": [
    "### Multinomial Naive Bayes\n",
    "\n",
    "Multinomail Navie Bayes is used to create the spam classifier. \n",
    "\n",
    "The <b>MultinomialNB</b> class of <i>sklearn.naive_bayes</i> library is used to create this object. \n",
    "\n",
    "The line of code below creates a Multinomial Naive Bayes object."
   ]
  },
  {
   "cell_type": "code",
   "execution_count": 22,
   "metadata": {},
   "outputs": [],
   "source": [
    "mnb = MultinomialNB()"
   ]
  },
  {
   "cell_type": "markdown",
   "metadata": {},
   "source": [
    "Make sure that the <b>y_train</b> data type is <b>int</b>."
   ]
  },
  {
   "cell_type": "code",
   "execution_count": 23,
   "metadata": {},
   "outputs": [],
   "source": [
    "y_train = y_train.astype('int')"
   ]
  },
  {
   "cell_type": "markdown",
   "metadata": {},
   "source": [
    "### Fit x, y data with multinomial naive bayes\n",
    "\n",
    "About MultinomialNB fit: \n",
    "\n",
    "https://scikit-learn.org/stable/modules/generated/sklearn.naive_bayes.MultinomialNB.html#sklearn.naive_bayes.MultinomialNB.fit\n",
    "\n",
    "The x_train's tfidf array is passed along with the target values. The fit is done with alpha=1.0. \n",
    "\n",
    "Choosing parameter <i> alpha </i>: \n",
    "\n",
    "https://stackoverflow.com/questions/33830959/multinomial-naive-bayes-parameter-alpha-setting-scikit-learn\n",
    "\n"
   ]
  },
  {
   "cell_type": "code",
   "execution_count": 24,
   "metadata": {},
   "outputs": [
    {
     "data": {
      "text/plain": [
       "MultinomialNB(alpha=1.0, class_prior=None, fit_prior=True)"
      ]
     },
     "execution_count": 24,
     "metadata": {},
     "output_type": "execute_result"
    }
   ],
   "source": [
    "mnb.fit(x_train_tfidf, y_train)"
   ]
  },
  {
   "cell_type": "markdown",
   "metadata": {},
   "source": [
    "#### Run the 'transform' function on the test data\n",
    "\n",
    "The tfidf vectorizer object's <i>transform</i> function is used for the test data. It's important that the 'fit_transform' function is NOT used for this purpose. The transform function uses the same mean and standard deviation used for the train set. If the 'fit_transform' function is used on the test set, this will generate a new mean and standard deviation. "
   ]
  },
  {
   "cell_type": "code",
   "execution_count": 25,
   "metadata": {},
   "outputs": [
    {
     "name": "stdout",
     "output_type": "stream",
     "text": [
      "1525\n",
      "(1525, 30817)\n"
     ]
    }
   ],
   "source": [
    "x_test_tfidf = tfidf_vec.transform(x_test)\n",
    "print(len(x_test))\n",
    "print(x_test_tfidf.shape)"
   ]
  },
  {
   "cell_type": "code",
   "execution_count": 26,
   "metadata": {},
   "outputs": [
    {
     "data": {
      "text/plain": [
       "30817"
      ]
     },
     "execution_count": 26,
     "metadata": {},
     "output_type": "execute_result"
    }
   ],
   "source": [
    "len(tfidf_vec.get_feature_names())"
   ]
  },
  {
   "cell_type": "markdown",
   "metadata": {},
   "source": [
    "#### Predict spam status of test data\n",
    "\n",
    "The MultinomialNB's <i>predict</i> function is used to predict the spam status of the test data based on the multinomial naive bayes model that was built earlier with the train data. The predict function takes the tfidf data of the test set. "
   ]
  },
  {
   "cell_type": "code",
   "execution_count": 27,
   "metadata": {},
   "outputs": [
    {
     "name": "stdout",
     "output_type": "stream",
     "text": [
      "(1525, 30817)\n",
      "1525\n"
     ]
    }
   ],
   "source": [
    "print(x_test_tfidf.shape)\n",
    "predict = mnb.predict(x_test_tfidf)\n",
    "print(len(predict))\n"
   ]
  },
  {
   "cell_type": "markdown",
   "metadata": {},
   "source": [
    "#### Compare predicted and actual spam status of test data\n",
    "\n",
    "The <i>y_test</i> variable holds the actual spam status of the test data. "
   ]
  },
  {
   "cell_type": "code",
   "execution_count": 28,
   "metadata": {},
   "outputs": [
    {
     "data": {
      "text/plain": [
       "1525"
      ]
     },
     "execution_count": 28,
     "metadata": {},
     "output_type": "execute_result"
    }
   ],
   "source": [
    "actual = np.array(y_test)\n",
    "len(actual)"
   ]
  },
  {
   "cell_type": "markdown",
   "metadata": {},
   "source": [
    "The code below compares the spam status of each document in the test set and increments <i>count</i> by 1 if the predicted spam status matches the actual spam status of the document. "
   ]
  },
  {
   "cell_type": "code",
   "execution_count": 29,
   "metadata": {},
   "outputs": [],
   "source": [
    "count = 0\n",
    "for i in range(len(predict)):\n",
    "    if predict[i] == actual[i]:\n",
    "        count = count + 1"
   ]
  },
  {
   "cell_type": "markdown",
   "metadata": {},
   "source": [
    "There are 1,525 documents in the test set, and the model correctly classified 1,396 of these documents. \n",
    "\n",
    "<b>This model has a 91.54% accuracy.</b>"
   ]
  },
  {
   "cell_type": "code",
   "execution_count": 30,
   "metadata": {},
   "outputs": [
    {
     "name": "stdout",
     "output_type": "stream",
     "text": [
      "1525\n",
      "1525\n",
      "1396\n"
     ]
    }
   ],
   "source": [
    "print(len(predict))\n",
    "print(len(actual))\n",
    "print(count)"
   ]
  },
  {
   "cell_type": "code",
   "execution_count": 31,
   "metadata": {},
   "outputs": [
    {
     "data": {
      "text/plain": [
       "0.9154098360655738"
      ]
     },
     "execution_count": 31,
     "metadata": {},
     "output_type": "execute_result"
    }
   ],
   "source": [
    "count/len(predict)"
   ]
  },
  {
   "cell_type": "code",
   "execution_count": 32,
   "metadata": {},
   "outputs": [
    {
     "name": "stdout",
     "output_type": "stream",
     "text": [
      "475\n",
      "1050\n",
      "375\n",
      "1021\n"
     ]
    }
   ],
   "source": [
    "#475 documents in test set that are spam\n",
    "print((actual == 1).sum())\n",
    "\n",
    "#1050 documens in test set that are not spam \n",
    "print((actual == 0).sum())\n",
    "\n",
    "#375 out of 475 spam documents were correctly classified as spam\n",
    "print((predict[np.isin(actual, [1])] == 1).sum())\n",
    "\n",
    "#1021 out of 1050 ham documents were correctly classified as not spam \n",
    "print((predict[np.isin(actual, [0])] == 0).sum())"
   ]
  },
  {
   "cell_type": "markdown",
   "metadata": {},
   "source": [
    "- About 79% of spam documents were correctly classified. \n",
    "- About 97% of not spam documents were correctly classsified.  "
   ]
  },
  {
   "cell_type": "code",
   "execution_count": 33,
   "metadata": {},
   "outputs": [
    {
     "name": "stdout",
     "output_type": "stream",
     "text": [
      "0.7894736842105263\n",
      "0.9723809523809523\n"
     ]
    }
   ],
   "source": [
    "#correctly classified spam\n",
    "print(375/475)\n",
    "\n",
    "#correctly classified not spam\n",
    "print(1021/1050)"
   ]
  },
  {
   "cell_type": "code",
   "execution_count": 35,
   "metadata": {},
   "outputs": [
    {
     "data": {
      "image/png": "[encoded data removed]",
      "text/plain": [
       "<Figure size 432x288 with 1 Axes>"
      ]
     },
     "metadata": {},
     "output_type": "display_data"
    }
   ],
   "source": [
    "import matplotlib.pyplot as plt\n",
    "\n",
    "# data to plot\n",
    "n_groups = 2\n",
    "actual_status = (475, 1050)\n",
    "predicted_status = (375, 1021)\n",
    " \n",
    "# create plot\n",
    "fig, ax = plt.subplots()\n",
    "index = np.arange(n_groups)\n",
    "bar_width = 0.40\n",
    "opacity = 0.6\n",
    " \n",
    "rects1 = plt.bar(index, actual_status, bar_width,\n",
    "alpha=opacity,\n",
    "color='green',\n",
    "label='Actual')\n",
    " \n",
    "rects2 = plt.bar(index + bar_width, predicted_status, bar_width,\n",
    "alpha=opacity,\n",
    "color='blue',\n",
    "label='Predicted')\n",
    " \n",
    "plt.xlabel('Test Set')\n",
    "plt.ylabel('Count')\n",
    "plt.title('Actual vs. Predicted')\n",
    "plt.xticks(index + bar_width, ('Spam', 'Not Spam'))\n",
    "plt.legend()\n",
    " \n",
    "plt.tight_layout()\n",
    "plt.show()"
   ]
  },
  {
   "cell_type": "markdown",
   "metadata": {},
   "source": [
    "- 375 out of 475 spam documents were correctly classified as spam (~79% accuracy)\n",
    "- 1021 out of 1050 ham documents were correctly classified as not spam (~97% accuracy)"
   ]
  },
  {
   "cell_type": "markdown",
   "metadata": {},
   "source": [
    "#### Resources\n",
    "\n",
    "Tutorial on Sklearn Vectorizer and Multinomial Naive Bayes\n",
    "\n",
    "- CountVectorizer: https://youtu.be/RZYjsw6P4nI\n",
    "- TFIDF: https://www.youtube.com/watch?v=bPYJi1E9xeM\n",
    "\n",
    "\n",
    "Helpful information on term frequency-inverse document frequency \n",
    "- https://towardsdatascience.com/spam-classifier-in-python-from-scratch-27a98ddd8e73\n",
    "\n",
    "---\n",
    "\n",
    "Team No. 6"
   ]
  }
 ],
 "metadata": {
  "kernelspec": {
   "display_name": "Python 3",
   "language": "python",
   "name": "python3"
  },
  "language_info": {
   "codemirror_mode": {
    "name": "ipython",
    "version": 3
   },
   "file_extension": ".py",
   "mimetype": "text/x-python",
   "name": "python",
   "nbconvert_exporter": "python",
   "pygments_lexer": "ipython3",
   "version": "3.6.5"
  }
 },
 "nbformat": 4,
 "nbformat_minor": 2
}
